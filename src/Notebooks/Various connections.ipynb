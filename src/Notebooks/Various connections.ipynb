{
 "cells": [
  {
   "cell_type": "markdown",
   "id": "c80fbf87-a5fb-4458-bf54-f40a9673558e",
   "metadata": {},
   "source": [
    "# PostgreSQL connection"
   ]
  },
  {
   "cell_type": "code",
   "execution_count": 1,
   "id": "30442c9f-060f-4228-87d1-6230bd228e1a",
   "metadata": {},
   "outputs": [],
   "source": [
    "import pandas as pd\n",
    "from sqlalchemy import create_engine\n",
    "from dotenv import load_dotenv\n",
    "import os"
   ]
  },
  {
   "cell_type": "code",
   "execution_count": 2,
   "id": "784d69c1-ebf5-42f6-8142-414444d34d0c",
   "metadata": {},
   "outputs": [
    {
     "data": {
      "text/plain": [
       "True"
      ]
     },
     "execution_count": 2,
     "metadata": {},
     "output_type": "execute_result"
    }
   ],
   "source": [
    "load_dotenv()"
   ]
  },
  {
   "cell_type": "code",
   "execution_count": 3,
   "id": "c63a8232-ec0c-41f3-8353-0357a0ac8aa0",
   "metadata": {},
   "outputs": [],
   "source": [
    "user = os.getenv('DB_USER')\n",
    "password = os.getenv('DB_PASSWORD')\n",
    "host = os.getenv('DB_HOST')\n",
    "port = os.getenv('DB_PORT')\n",
    "database = os.getenv('DB_NAME')\n",
    "table_name = 'raw_data'"
   ]
  },
  {
   "cell_type": "code",
   "execution_count": 6,
   "id": "ce061daf-2d7e-4b42-b969-3842c619ac06",
   "metadata": {},
   "outputs": [],
   "source": [
    "filepath = \"../data/browser_data.csv\""
   ]
  },
  {
   "cell_type": "code",
   "execution_count": 10,
   "id": "41607eee-ec05-4ea9-af72-4a491efd0dc9",
   "metadata": {},
   "outputs": [
    {
     "name": "stdout",
     "output_type": "stream",
     "text": [
      "Success\n"
     ]
    }
   ],
   "source": [
    "engine = create_engine(f'postgresql+psycopg2://{user}:{password}@{host}:{port}/{database}')\n",
    "\n",
    "data = pd.read_csv(filepath, dtype='str', sep='^', encoding='utf-8')\n",
    "\n",
    "data.to_sql(table_name, engine, if_exists='replace', index=False)\n",
    "\n",
    "print(\"Success\")"
   ]
  },
  {
   "cell_type": "markdown",
   "id": "f2ec21a4-15ce-4c02-a3ed-9e0cc289e251",
   "metadata": {},
   "source": [
    "# Minio conection"
   ]
  },
  {
   "cell_type": "code",
   "execution_count": 10,
   "id": "cde82c22-dfbf-45eb-a4c0-16a19f5b7601",
   "metadata": {},
   "outputs": [
    {
     "data": {
      "text/plain": [
       "True"
      ]
     },
     "execution_count": 10,
     "metadata": {},
     "output_type": "execute_result"
    }
   ],
   "source": [
    "from minio import Minio\n",
    "from minio.error import S3Error\n",
    "from dotenv import load_dotenv\n",
    "import os\n",
    "\n",
    "load_dotenv()"
   ]
  },
  {
   "cell_type": "code",
   "execution_count": 11,
   "id": "d66b7667-6ebd-484a-a48d-66e912560788",
   "metadata": {},
   "outputs": [],
   "source": [
    "minio_url = os.getenv(\"MINIO_URL\")\n",
    "access_key = os.getenv(\"MINIO_USER\")\n",
    "secret_key = os.getenv(\"MINIO_PASSWORD\")"
   ]
  },
  {
   "cell_type": "code",
   "execution_count": 13,
   "id": "17744059-654d-449e-9764-bf210824ea28",
   "metadata": {},
   "outputs": [],
   "source": [
    "minio_client = Minio(minio_url, access_key=access_key, secret_key=secret_key, secure=False)"
   ]
  },
  {
   "cell_type": "code",
   "execution_count": 35,
   "id": "44f103fb-99d3-447b-a511-2d2fd1428d5e",
   "metadata": {},
   "outputs": [],
   "source": [
    "def create_bucket(bucket_name: str):\n",
    "    try:\n",
    "        if not minio_client.bucket_exists(bucket_name):\n",
    "            minio_client.make_bucket(bucket_name)\n",
    "            print(\"Bucket\", bucket_name, \"created successfully\")\n",
    "        else:\n",
    "            print(\"Bucket\", bucket_name, \"already exists\")\n",
    "    except S3Error as e:\n",
    "        print(f\"An error occurred: {e}\")\n",
    "\n",
    "def upload_file_to_minio(bucket: str, file_name: str, file_path: str):\n",
    "    try:\n",
    "        if not minio_client.bucket_exists(bucket):\n",
    "            create_bucket(bucket)\n",
    "        minio_client.fput_object(bucket, file_name, file_path)\n",
    "        print(\"File\", file_name, \"uploaded to bucket\", bucket, \"successfully\")\n",
    "    except S3Error as e:\n",
    "        print(f\"An error occurred: {e}\")\n",
    "\n",
    "def upload_df_to_minio(bucket: str, file_name: str, df: pd.DataFrame):\n",
    "    try:\n",
    "        if not minio_client.bucket_exists(bucket):\n",
    "            create_bucket(bucket)\n",
    "\n",
    "        csv_buffer = BytesIO()\n",
    "        df.to_csv(csv_buffer, index=False, sep='^', encoding='utf-8')\n",
    "        csv_buffer.seek(0)\n",
    "        minio_client.put_object(bucket_name=bucket, object_name=file_name, data=csv_buffer, length=len(csv_buffer.getvalue()), content_type=\"text/csv\")\n",
    "        print(\"File\", file_name,\"created from datafra uploaded to bucket\", bucket, \"successfully\")\n",
    "    except S3Error as e:\n",
    "        print(f\"An error occurred: {e}\")\n",
    "\n",
    "def download_csv_file(bucket: str, file_name: str):\n",
    "    try:\n",
    "        response = minio_client.get_object(bucket_name=bucket, object_name=file_name)\n",
    "        csv_data = BytesIO(response.read())\n",
    "        \n",
    "        return csv_data\n",
    "    except S3Error as e:\n",
    "        print(f\"An error occurred: {e}\")\n",
    "    "
   ]
  },
  {
   "cell_type": "code",
   "execution_count": 16,
   "id": "b20e8d51-6b3f-48e3-bab6-9e7fd4d77e9f",
   "metadata": {},
   "outputs": [
    {
     "name": "stdout",
     "output_type": "stream",
     "text": [
      "Bucket raw-data created successfully\n"
     ]
    }
   ],
   "source": [
    "create_bucket('raw-data')"
   ]
  },
  {
   "cell_type": "code",
   "execution_count": 20,
   "id": "a6c5d80e-07aa-42d2-b828-e7b83adf8cd3",
   "metadata": {},
   "outputs": [
    {
     "name": "stdout",
     "output_type": "stream",
     "text": [
      "File raw_data.csv uploaded to bucket raw-data successfully\n"
     ]
    }
   ],
   "source": [
    "upload_file_to_minio(\"raw-data\", 'raw_data.csv', \"../data/browser_data.csv\")"
   ]
  },
  {
   "cell_type": "code",
   "execution_count": 21,
   "id": "107c24bc-c327-4a50-a205-643e1ebd1f0c",
   "metadata": {},
   "outputs": [],
   "source": [
    "import pandas as pd\n",
    "\n",
    "data = pd.read_csv('../data/html_raw_data.csv', dtype='str', sep='^', encoding='utf-8')"
   ]
  },
  {
   "cell_type": "code",
   "execution_count": 32,
   "id": "3e0f3a60-2ef1-4e97-ac41-55fd65336b38",
   "metadata": {},
   "outputs": [
    {
     "data": {
      "text/plain": [
       "0"
      ]
     },
     "execution_count": 32,
     "metadata": {},
     "output_type": "execute_result"
    }
   ],
   "source": [
    "from io import BytesIO\n",
    "\n",
    "csv_buffer = StringIO()\n",
    "data.to_csv(csv_buffer, index=False, sep='^', encoding='utf-8')\n",
    "csv_buffer.seek(0)"
   ]
  },
  {
   "cell_type": "code",
   "execution_count": 34,
   "id": "3ade0677-be15-473a-879a-bd75410e045c",
   "metadata": {},
   "outputs": [
    {
     "name": "stdout",
     "output_type": "stream",
     "text": [
      "File test_raw_data.csv created from datafra uploaded to bucket test-bucket successfully\n"
     ]
    }
   ],
   "source": [
    "upload_df_to_minio('test-bucket', 'test_raw_data.csv', data)"
   ]
  },
  {
   "cell_type": "code",
   "execution_count": 36,
   "id": "4514c8ce-7347-49f6-9d18-fa64d0b39fd1",
   "metadata": {},
   "outputs": [
    {
     "data": {
      "text/html": [
       "<div>\n",
       "<style scoped>\n",
       "    .dataframe tbody tr th:only-of-type {\n",
       "        vertical-align: middle;\n",
       "    }\n",
       "\n",
       "    .dataframe tbody tr th {\n",
       "        vertical-align: top;\n",
       "    }\n",
       "\n",
       "    .dataframe thead th {\n",
       "        text-align: right;\n",
       "    }\n",
       "</style>\n",
       "<table border=\"1\" class=\"dataframe\">\n",
       "  <thead>\n",
       "    <tr style=\"text-align: right;\">\n",
       "      <th></th>\n",
       "      <th>category</th>\n",
       "      <th>title</th>\n",
       "      <th>price</th>\n",
       "      <th>rating</th>\n",
       "      <th>description</th>\n",
       "      <th>availability</th>\n",
       "    </tr>\n",
       "  </thead>\n",
       "  <tbody>\n",
       "    <tr>\n",
       "      <th>0</th>\n",
       "      <td>Poetry</td>\n",
       "      <td>A Light in the Attic</td>\n",
       "      <td>£51.77</td>\n",
       "      <td>Three</td>\n",
       "      <td>It's hard to imagine a world without A Light i...</td>\n",
       "      <td>In stock (22 available)</td>\n",
       "    </tr>\n",
       "    <tr>\n",
       "      <th>1</th>\n",
       "      <td>Historical Fiction</td>\n",
       "      <td>Tipping the Velvet</td>\n",
       "      <td>£53.74</td>\n",
       "      <td>One</td>\n",
       "      <td>\"Erotic and absorbing...Written with starling ...</td>\n",
       "      <td>In stock (20 available)</td>\n",
       "    </tr>\n",
       "    <tr>\n",
       "      <th>2</th>\n",
       "      <td>Fiction</td>\n",
       "      <td>Soumission</td>\n",
       "      <td>£50.10</td>\n",
       "      <td>One</td>\n",
       "      <td>Dans une France assez proche de la nôtre, un h...</td>\n",
       "      <td>In stock (20 available)</td>\n",
       "    </tr>\n",
       "    <tr>\n",
       "      <th>3</th>\n",
       "      <td>Mystery</td>\n",
       "      <td>Sharp Objects</td>\n",
       "      <td>£47.82</td>\n",
       "      <td>Four</td>\n",
       "      <td>WICKED above her hipbone, GIRL across her hear...</td>\n",
       "      <td>In stock (20 available)</td>\n",
       "    </tr>\n",
       "    <tr>\n",
       "      <th>4</th>\n",
       "      <td>History</td>\n",
       "      <td>Sapiens: A Brief History of Humankind</td>\n",
       "      <td>£54.23</td>\n",
       "      <td>Five</td>\n",
       "      <td>From a renowned historian comes a groundbreaki...</td>\n",
       "      <td>In stock (20 available)</td>\n",
       "    </tr>\n",
       "  </tbody>\n",
       "</table>\n",
       "</div>"
      ],
      "text/plain": [
       "             category                                  title   price rating  \\\n",
       "0              Poetry                   A Light in the Attic  £51.77  Three   \n",
       "1  Historical Fiction                     Tipping the Velvet  £53.74    One   \n",
       "2             Fiction                             Soumission  £50.10    One   \n",
       "3             Mystery                          Sharp Objects  £47.82   Four   \n",
       "4             History  Sapiens: A Brief History of Humankind  £54.23   Five   \n",
       "\n",
       "                                         description             availability  \n",
       "0  It's hard to imagine a world without A Light i...  In stock (22 available)  \n",
       "1  \"Erotic and absorbing...Written with starling ...  In stock (20 available)  \n",
       "2  Dans une France assez proche de la nôtre, un h...  In stock (20 available)  \n",
       "3  WICKED above her hipbone, GIRL across her hear...  In stock (20 available)  \n",
       "4  From a renowned historian comes a groundbreaki...  In stock (20 available)  "
      ]
     },
     "execution_count": 36,
     "metadata": {},
     "output_type": "execute_result"
    }
   ],
   "source": [
    "new_data = download_csv_file('test-bucket', 'test_raw_data.csv')\n",
    "new_df = pd.read_csv(new_data, dtype='str', sep='^', encoding='utf-8')\n",
    "new_df.head()"
   ]
  }
 ],
 "metadata": {
  "kernelspec": {
   "display_name": "Python 3 (ipykernel)",
   "language": "python",
   "name": "python3"
  },
  "language_info": {
   "codemirror_mode": {
    "name": "ipython",
    "version": 3
   },
   "file_extension": ".py",
   "mimetype": "text/x-python",
   "name": "python",
   "nbconvert_exporter": "python",
   "pygments_lexer": "ipython3",
   "version": "3.12.2"
  }
 },
 "nbformat": 4,
 "nbformat_minor": 5
}
