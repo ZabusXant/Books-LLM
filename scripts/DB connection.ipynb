{
 "cells": [
  {
   "cell_type": "code",
   "execution_count": 1,
   "id": "30442c9f-060f-4228-87d1-6230bd228e1a",
   "metadata": {},
   "outputs": [],
   "source": [
    "import pandas as pd\n",
    "from sqlalchemy import create_engine\n",
    "from dotenv import load_dotenv\n",
    "import os"
   ]
  },
  {
   "cell_type": "code",
   "execution_count": 2,
   "id": "784d69c1-ebf5-42f6-8142-414444d34d0c",
   "metadata": {},
   "outputs": [
    {
     "data": {
      "text/plain": [
       "True"
      ]
     },
     "execution_count": 2,
     "metadata": {},
     "output_type": "execute_result"
    }
   ],
   "source": [
    "load_dotenv()"
   ]
  },
  {
   "cell_type": "code",
   "execution_count": 3,
   "id": "c63a8232-ec0c-41f3-8353-0357a0ac8aa0",
   "metadata": {},
   "outputs": [],
   "source": [
    "user = os.getenv('DB_USER')\n",
    "password = os.getenv('DB_PASSWORD')\n",
    "host = os.getenv('DB_HOST')\n",
    "port = os.getenv('DB_PORT')\n",
    "database = os.getenv('DB_NAME')\n",
    "table_name = 'raw_data'"
   ]
  },
  {
   "cell_type": "code",
   "execution_count": 6,
   "id": "ce061daf-2d7e-4b42-b969-3842c619ac06",
   "metadata": {},
   "outputs": [],
   "source": [
    "filepath = \"../data/browser_data.csv\""
   ]
  },
  {
   "cell_type": "code",
   "execution_count": 10,
   "id": "41607eee-ec05-4ea9-af72-4a491efd0dc9",
   "metadata": {},
   "outputs": [
    {
     "name": "stdout",
     "output_type": "stream",
     "text": [
      "Success\n"
     ]
    }
   ],
   "source": [
    "engine = create_engine(f'postgresql+psycopg2://{user}:{password}@{host}:{port}/{database}')\n",
    "\n",
    "data = pd.read_csv(filepath, dtype='str', sep='^', encoding='utf-8')\n",
    "\n",
    "data.to_sql(table_name, engine, if_exists='replace', index=False)\n",
    "\n",
    "print(\"Success\")"
   ]
  }
 ],
 "metadata": {
  "kernelspec": {
   "display_name": "Python 3 (ipykernel)",
   "language": "python",
   "name": "python3"
  },
  "language_info": {
   "codemirror_mode": {
    "name": "ipython",
    "version": 3
   },
   "file_extension": ".py",
   "mimetype": "text/x-python",
   "name": "python",
   "nbconvert_exporter": "python",
   "pygments_lexer": "ipython3",
   "version": "3.12.2"
  }
 },
 "nbformat": 4,
 "nbformat_minor": 5
}
