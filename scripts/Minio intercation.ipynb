{
 "cells": [
  {
   "cell_type": "code",
   "execution_count": 3,
   "id": "c0ff7cef-b2fb-4788-a6d8-cb0cf6b47c74",
   "metadata": {},
   "outputs": [],
   "source": [
    "import boto3\n",
    "import os\n",
    "from dotenv import load_dotenv\n",
    "\n",
    "load_dotenv()\n",
    "key_id = os.getenv('MINIO_USER')\n",
    "secret = os.getenv('MINIO_PASSWORD')\n",
    "\n",
    "def upload_to_minio(bucket_name, file_path, object_name):\n",
    "    s3_client = boto3.client(\n",
    "        \"s3\",\n",
    "        endpoint_url=\"http://localhost:9000\",\n",
    "        aws_access_key_id=key_id,\n",
    "        aws_secret_access_key=secret\n",
    "    )\n",
    "    try:\n",
    "        s3_client.upload_file(file_path, bucket_name, object_name)\n",
    "        print(f\"Uploaded {file_path} to {bucket_name}/{object_name}\")\n",
    "    except Exception as e:\n",
    "        print(f\"Error: {e}\")"
   ]
  },
  {
   "cell_type": "code",
   "execution_count": 5,
   "id": "467b8db5-71b1-4b43-a7e9-c07f13b8ac62",
   "metadata": {},
   "outputs": [],
   "source": [
    "def download_from_minio(bucket_name, object_name, download_path):\n",
    "    s3_client = boto3.client(\n",
    "        \"s3\",\n",
    "        endpoint_url=\"http://localhost:9000\",\n",
    "        aws_access_key_id=key_id,\n",
    "        aws_secret_access_key=secret\n",
    "    )\n",
    "    try:\n",
    "        s3_client.download_file(bucket_name, object_name, download_path)\n",
    "        print(f\"Downloaded {object_name} to {download_path}\")\n",
    "    except Exception as e:\n",
    "        print(f\"Error: {e}\")"
   ]
  },
  {
   "cell_type": "code",
   "execution_count": 4,
   "id": "f70ea6e3-e0f1-4062-85b7-b430f1fab931",
   "metadata": {},
   "outputs": [
    {
     "name": "stdout",
     "output_type": "stream",
     "text": [
      "Uploaded ../data/browser_data.csv to raw-data/raw_data.csv\n"
     ]
    }
   ],
   "source": [
    "upload_to_minio(\"raw-data\", \"../data/browser_data.csv\", \"raw_data.csv\")"
   ]
  },
  {
   "cell_type": "code",
   "execution_count": 6,
   "id": "d4ed3bb3-2173-4eda-977c-a957aabfa2bf",
   "metadata": {},
   "outputs": [
    {
     "name": "stdout",
     "output_type": "stream",
     "text": [
      "Downloaded raw_data.csv to downloaded_raw_data.csv\n"
     ]
    }
   ],
   "source": [
    "download_from_minio(\"raw-data\", \"raw_data.csv\", \"downloaded_raw_data.csv\")"
   ]
  }
 ],
 "metadata": {
  "kernelspec": {
   "display_name": "Python 3 (ipykernel)",
   "language": "python",
   "name": "python3"
  },
  "language_info": {
   "codemirror_mode": {
    "name": "ipython",
    "version": 3
   },
   "file_extension": ".py",
   "mimetype": "text/x-python",
   "name": "python",
   "nbconvert_exporter": "python",
   "pygments_lexer": "ipython3",
   "version": "3.12.2"
  }
 },
 "nbformat": 4,
 "nbformat_minor": 5
}
